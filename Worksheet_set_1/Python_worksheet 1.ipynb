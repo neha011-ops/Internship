{
 "cells": [
  {
   "cell_type": "markdown",
   "metadata": {},
   "source": [
    "# 1"
   ]
  },
  {
   "cell_type": "code",
   "execution_count": 9,
   "metadata": {},
   "outputs": [
    {
     "name": "stdout",
     "output_type": "stream",
     "text": [
      "print a no.4\n"
     ]
    },
    {
     "data": {
      "text/plain": [
       "24"
      ]
     },
     "execution_count": 9,
     "metadata": {},
     "output_type": "execute_result"
    }
   ],
   "source": [
    "num = int(input(\"print a no.\") )\n",
    "factorial = 1\n",
    "for i in range(1, num + 1):\n",
    "    factorial= factorial* i\n",
    "factorial"
   ]
  },
  {
   "cell_type": "markdown",
   "metadata": {},
   "source": [
    "# 2"
   ]
  },
  {
   "cell_type": "code",
   "execution_count": 3,
   "metadata": {},
   "outputs": [
    {
     "name": "stdout",
     "output_type": "stream",
     "text": [
      "Print a no.5\n",
      "5 is a prime no.\n"
     ]
    }
   ],
   "source": [
    "num = int(input(\"Print a no.\"))\n",
    "if num > 1:\n",
    "    for i in range(2, num):\n",
    "        if num % i == 0:\n",
    "            print(num, \"is a not a prime no.\")\n",
    "            \n",
    "        else:\n",
    "            print(num, \"is a prime no.\")\n",
    "        break"
   ]
  },
  {
   "cell_type": "markdown",
   "metadata": {},
   "source": [
    "# 3"
   ]
  },
  {
   "cell_type": "code",
   "execution_count": 5,
   "metadata": {},
   "outputs": [
    {
     "name": "stdout",
     "output_type": "stream",
     "text": [
      "Enter a string: ojh\n",
      "The string is not a palindrome.\n"
     ]
    }
   ],
   "source": [
    "def is_palindrome(strng): \n",
    "    if (strng == strng[::-1]): \n",
    "        return \"The string is a palindrome.\"\n",
    "    else: \n",
    "        return \"The string is not a palindrome.\"\n",
    "\n",
    "strng = input(\"Enter a string: \") \n",
    "print(is_palindrome(strng))"
   ]
  },
  {
   "cell_type": "markdown",
   "metadata": {},
   "source": [
    "# 4"
   ]
  },
  {
   "cell_type": "code",
   "execution_count": 6,
   "metadata": {},
   "outputs": [
    {
     "name": "stdout",
     "output_type": "stream",
     "text": [
      "print Length A: 5\n",
      "print Length B: 4\n",
      "The longest side of the right-angled triangle is =  6.4031242374328485\n"
     ]
    }
   ],
   "source": [
    "Length_A = int(input(\"print Length A: \"))\n",
    "Length_B =int(input(\"print Length B: \")) \n",
    "Length_C = print(\"The longest side of the right-angled triangle is = \", (Length_A**2 + Length_B**2)**0.5) "
   ]
  },
  {
   "cell_type": "markdown",
   "metadata": {},
   "source": [
    "# 5"
   ]
  },
  {
   "cell_type": "code",
   "execution_count": 7,
   "metadata": {},
   "outputs": [
    {
     "name": "stdout",
     "output_type": "stream",
     "text": [
      "My string isneha neh\n"
     ]
    },
    {
     "data": {
      "text/plain": [
       "{'n': 2, 'e': 2, 'h': 2, 'a': 1, ' ': 1}"
      ]
     },
     "execution_count": 7,
     "metadata": {},
     "output_type": "execute_result"
    }
   ],
   "source": [
    "My_string = str(input(\"My string is\"))\n",
    "freq = {}\n",
    "for i in My_string:\n",
    "    if i in freq:\n",
    "        freq[i] += 1\n",
    "    else:\n",
    "        freq[i] = 1\n",
    "freq"
   ]
  },
  {
   "cell_type": "code",
   "execution_count": null,
   "metadata": {},
   "outputs": [],
   "source": []
  },
  {
   "cell_type": "code",
   "execution_count": null,
   "metadata": {},
   "outputs": [],
   "source": []
  }
 ],
 "metadata": {
  "kernelspec": {
   "display_name": "Python 3",
   "language": "python",
   "name": "python3"
  },
  "language_info": {
   "codemirror_mode": {
    "name": "ipython",
    "version": 3
   },
   "file_extension": ".py",
   "mimetype": "text/x-python",
   "name": "python",
   "nbconvert_exporter": "python",
   "pygments_lexer": "ipython3",
   "version": "3.8.5"
  }
 },
 "nbformat": 4,
 "nbformat_minor": 4
}
