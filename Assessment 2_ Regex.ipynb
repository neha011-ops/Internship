{
 "cells": [
  {
   "cell_type": "markdown",
   "metadata": {},
   "source": [
    "# 1"
   ]
  },
  {
   "cell_type": "code",
   "execution_count": 1,
   "metadata": {},
   "outputs": [
    {
     "data": {
      "text/plain": [
       "'Python:Exercises::PHP:exercises:'"
      ]
     },
     "execution_count": 1,
     "metadata": {},
     "output_type": "execute_result"
    }
   ],
   "source": [
    "import re\n",
    "New_Text = re.sub(r'[ ,.]', ':', 'Python Exercises, PHP exercises.')\n",
    "New_Text"
   ]
  },
  {
   "cell_type": "markdown",
   "metadata": {},
   "source": [
    "# 2"
   ]
  },
  {
   "cell_type": "code",
   "execution_count": 2,
   "metadata": {},
   "outputs": [
    {
     "name": "stderr",
     "output_type": "stream",
     "text": [
      "C:\\Users\\HP\\anaconda3\\lib\\site-packages\\pandas\\core\\computation\\expressions.py:20: UserWarning: Pandas requires version '2.7.3' or newer of 'numexpr' (version '2.7.1' currently installed).\n",
      "  from pandas.core.computation.check import NUMEXPR_INSTALLED\n"
     ]
    },
    {
     "name": "stdout",
     "output_type": "stream",
     "text": [
      "         SUMMARY\n",
      "0    hello world\n",
      "1           test\n",
      "2  four five six\n"
     ]
    }
   ],
   "source": [
    "import pandas as pd\n",
    "dt = {'SUMMARY': ['hello, world!', 'XXXXX test', '123four, five:; six...']}\n",
    "df = pd.DataFrame(dt)\n",
    "df['SUMMARY'] = df['SUMMARY'].apply(lambda x: re.sub(r'[^A-Za-z ]', '', x))\n",
    "df['SUMMARY'] = df['SUMMARY'].apply(lambda x: re.sub(r'\\b[A-Z]+\\b', '', x).strip())\n",
    "\n",
    "print(df)\n"
   ]
  },
  {
   "cell_type": "markdown",
   "metadata": {},
   "source": [
    "# 3"
   ]
  },
  {
   "cell_type": "code",
   "execution_count": 3,
   "metadata": {},
   "outputs": [
    {
     "name": "stdout",
     "output_type": "stream",
     "text": [
      "['This', 'Bangalore', 'city', 'beautiful', 'place', 'live']\n"
     ]
    }
   ],
   "source": [
    "def find_all_words(text):\n",
    "    pt = re.compile(r'\\w{4,}')\n",
    "    words = pt.findall(text)\n",
    "\n",
    "    return words\n",
    "Text = \"This is Bangalore city and it's beautiful place to live\"\n",
    "output = find_all_words(Text)\n",
    "print(output)"
   ]
  },
  {
   "cell_type": "markdown",
   "metadata": {},
   "source": [
    "# 4"
   ]
  },
  {
   "cell_type": "code",
   "execution_count": 5,
   "metadata": {},
   "outputs": [
    {
     "name": "stdout",
     "output_type": "stream",
     "text": [
      "['This', 'Banga', 'lore', 'city', 'and', 'beaut', 'iful', 'place', 'live']\n"
     ]
    }
   ],
   "source": [
    "def find_all_words(text):\n",
    "    pattern = re.compile(r'\\w{3,5}')\n",
    "    words = pattern.findall(text)\n",
    "    return words\n",
    "Text = \"This is Bangalore city and it's beautiful place to live\"\n",
    "output = find_all_words(Text)\n",
    "print(output)\n"
   ]
  },
  {
   "cell_type": "markdown",
   "metadata": {},
   "source": [
    "# 5"
   ]
  },
  {
   "cell_type": "code",
   "execution_count": 6,
   "metadata": {},
   "outputs": [
    {
     "name": "stdout",
     "output_type": "stream",
     "text": [
      "example .com\n",
      "hr@fliprobo .com\n",
      "github .com\n",
      "Hello Data Science World\n",
      "Data Scientist\n"
     ]
    }
   ],
   "source": [
    "def dlt_paren(stri):\n",
    "    patrn = re.compile(r'\\(([^)]*)\\)')\n",
    "    new_string = [patrn.sub(r'\\1', stri) for stri in stri]\n",
    "\n",
    "    return '\\n'.join(new_string)\n",
    "\n",
    "sample_text = [\"example (.com)\", \"hr@fliprobo (.com)\", \"github (.com)\", \"Hello (Data Science World)\", \"Data (Scientist)\"]\n",
    "\n",
    "Nw_text = dlt_paren(sample_text)\n",
    "print(Nw_text)"
   ]
  },
  {
   "cell_type": "markdown",
   "metadata": {},
   "source": [
    "# 6"
   ]
  },
  {
   "cell_type": "code",
   "execution_count": 34,
   "metadata": {},
   "outputs": [
    {
     "name": "stdout",
     "output_type": "stream",
     "text": [
      "['[\"example\", \"hr@fliprobo\", \"github\", \"Hello\", \"Data\"]']\n"
     ]
    }
   ],
   "source": [
    "import re\n",
    "def text_file1(input12, output=None):\n",
    "    ptrn = re.compile(r'\\s*\\([^)]*\\)')\n",
    "    with open(input12, 'r') as file: \n",
    "        newline = file.readlines()\n",
    "\n",
    "    clndlines = [ptrn.sub('', line).strip() for line in newline]\n",
    "\n",
    "    if output:\n",
    "        with open(output, 'w') as file:\n",
    "            for line in clndlines:\n",
    "                file.write(line + '\\n')\n",
    "\n",
    "    return clndlines\n",
    "\n",
    "input12 = r\"C:\\Users\\HP\\OneDrive\\Desktop\\Text....txt\"\n",
    "output = input12\n",
    "result = text_file1(input12, output)\n",
    "print(result)"
   ]
  },
  {
   "cell_type": "markdown",
   "metadata": {},
   "source": [
    "# 7"
   ]
  },
  {
   "cell_type": "code",
   "execution_count": 9,
   "metadata": {},
   "outputs": [
    {
     "name": "stdout",
     "output_type": "stream",
     "text": [
      "['Importance', 'Of', 'Regular', 'Expressions', 'In', 'Python']\n"
     ]
    }
   ],
   "source": [
    "def uppercase(txt):\n",
    "    word = re.findall(r'[A-Z][^A-Z]*', txt)\n",
    "    return word\n",
    "sample_text = \"ImportanceOfRegularExpressionsInPython\"\n",
    "result = uppercase(sample_text)\n",
    "print(result)"
   ]
  },
  {
   "cell_type": "markdown",
   "metadata": {},
   "source": [
    "# 8"
   ]
  },
  {
   "cell_type": "code",
   "execution_count": 10,
   "metadata": {},
   "outputs": [
    {
     "name": "stdout",
     "output_type": "stream",
     "text": [
      "RegularExpression 1IsAn 2ImportantTopic 3InPython\n"
     ]
    }
   ],
   "source": [
    "def insert_numbers(txt):\n",
    "    txt1 = re.sub(r'(\\d)', r' \\1', txt)\n",
    "    return txt1\n",
    "\n",
    "sample_text = \"RegularExpression1IsAn2ImportantTopic3InPython\"\n",
    "result = insert_numbers(sample_text)\n",
    "print(result)\n"
   ]
  },
  {
   "cell_type": "markdown",
   "metadata": {},
   "source": [
    "# 9"
   ]
  },
  {
   "cell_type": "code",
   "execution_count": 11,
   "metadata": {},
   "outputs": [
    {
     "name": "stdout",
     "output_type": "stream",
     "text": [
      "Regular Expression 1 Is An 2 Important Topic 3 In Python\n"
     ]
    }
   ],
   "source": [
    "def capital_numbers(txt):\n",
    "    text1 = re.sub(r'([A-Z\\d])', r' \\1', txt)\n",
    "    text1 = text1.lstrip()\n",
    "    return text1\n",
    "sample_text = \"RegularExpression1IsAn2ImportantTopic3InPython\"\n",
    "result = capital_numbers(sample_text)\n",
    "print(result)"
   ]
  },
  {
   "cell_type": "markdown",
   "metadata": {},
   "source": [
    "# 10 "
   ]
  },
  {
   "cell_type": "code",
   "execution_count": 12,
   "metadata": {},
   "outputs": [
    {
     "name": "stdout",
     "output_type": "stream",
     "text": [
      "       Country          Region  Happiness Rank  Happiness Score  \\\n",
      "0  Switzerland  Western Europe               1            7.587   \n",
      "1      Iceland  Western Europe               2            7.561   \n",
      "2      Denmark  Western Europe               3            7.527   \n",
      "3       Norway  Western Europe               4            7.522   \n",
      "4       Canada   North America               5            7.427   \n",
      "\n",
      "   Standard Error  Economy (GDP per Capita)   Family  \\\n",
      "0         0.03411                   1.39651  1.34951   \n",
      "1         0.04884                   1.30232  1.40223   \n",
      "2         0.03328                   1.32548  1.36058   \n",
      "3         0.03880                   1.45900  1.33095   \n",
      "4         0.03553                   1.32629  1.32261   \n",
      "\n",
      "   Health (Life Expectancy)  Freedom  Trust (Government Corruption)  \\\n",
      "0                   0.94143  0.66557                        0.41978   \n",
      "1                   0.94784  0.62877                        0.14145   \n",
      "2                   0.87464  0.64938                        0.48357   \n",
      "3                   0.88521  0.66973                        0.36503   \n",
      "4                   0.90563  0.63297                        0.32957   \n",
      "\n",
      "   Generosity  Dystopia Residual six_ltrs  \n",
      "0     0.29678            2.51738   Switze  \n",
      "1     0.43630            2.70201   Icelan  \n",
      "2     0.34139            2.49204   Denmar  \n",
      "3     0.34699            2.46531   Norway  \n",
      "4     0.45811            2.45176   Canada  \n"
     ]
    }
   ],
   "source": [
    "def df_url(url):\n",
    "    df = pd.read_csv(url)\n",
    "    df['six_ltrs'] = df['Country'].str[:6]\n",
    "    return df\n",
    "url = \"https://raw.githubusercontent.com/dsrscientist/DSData/master/happiness_score_dataset.csv\"\n",
    "df1 = df_url(url)\n",
    "print(df1.head())"
   ]
  },
  {
   "cell_type": "markdown",
   "metadata": {},
   "source": [
    "# 11"
   ]
  },
  {
   "cell_type": "code",
   "execution_count": 13,
   "metadata": {},
   "outputs": [
    {
     "name": "stdout",
     "output_type": "stream",
     "text": [
      "String matched\n",
      "String doesn't matched\n"
     ]
    }
   ],
   "source": [
    "text1 = \"XYZ1_xy\"\n",
    "text2 = \"XYZ0+12%\"\n",
    "ptrn = re.compile(r'^[A-Za-z0-9_]+$')\n",
    "\n",
    "output1 = \"String matched\" if ptrn.match(text1) else \"String doesn't matched\"\n",
    "output2 = \"String doesn't matched\" if ptrn.match(text2) else \"String doesn't matched\"\n",
    "\n",
    "print(output1)\n",
    "print(output2)"
   ]
  },
  {
   "cell_type": "markdown",
   "metadata": {},
   "source": [
    "# 12"
   ]
  },
  {
   "cell_type": "code",
   "execution_count": 14,
   "metadata": {},
   "outputs": [
    {
     "name": "stdout",
     "output_type": "stream",
     "text": [
      "String doesn't start with number.\n",
      "String starts with the number.\n"
     ]
    }
   ],
   "source": [
    "text1 = \"The city name is bangalore\"\n",
    "text2 = \"1the city name is pune\"\n",
    "ptrn = re.compile(r'^1')\n",
    "output1 = \"String starts with the number.\" if ptrn.match(text1) else \"String doesn't start with number.\"\n",
    "output2 = \"String starts with the number.\" if ptrn.match(text2) else \"String doesn't start with the number.\"\n",
    "\n",
    "print(output1)\n",
    "print(output2) "
   ]
  },
  {
   "cell_type": "markdown",
   "metadata": {},
   "source": [
    "# 13"
   ]
  },
  {
   "cell_type": "code",
   "execution_count": 15,
   "metadata": {},
   "outputs": [
    {
     "name": "stdout",
     "output_type": "stream",
     "text": [
      "192.168.1.2\n",
      ".1.1.12\n"
     ]
    }
   ],
   "source": [
    "inputip1 = \"192.168.01.02\"\n",
    "inputip2 = \"0.010.10.102\"\n",
    "ip1 = re.sub(r'0+()', r'\\1', inputip1) \n",
    "ip2 = re.sub(r'0+()', r'\\1', inputip2) \n",
    "\n",
    "print(ip1) \n",
    "print(ip2) "
   ]
  },
  {
   "cell_type": "markdown",
   "metadata": {},
   "source": [
    "#  14"
   ]
  },
  {
   "cell_type": "code",
   "execution_count": 16,
   "metadata": {},
   "outputs": [
    {
     "name": "stdout",
     "output_type": "stream",
     "text": [
      "August 15th 1947\n"
     ]
    }
   ],
   "source": [
    "def date_extract(filepath):\n",
    "    with open(filepath, 'r') as file:\n",
    "        text1 = file.read()\n",
    "    patrn = re.compile(r'\\b(January|February|March|April|May|June|July|August|September|October|November|December)\\s+\\d{1,2}(st|nd|rd|th)?\\s+\\d{4}\\b')\n",
    "    match1 = patrn.search(text1)\n",
    "    if match1:\n",
    "        return match1.group()\n",
    "    else:\n",
    "        return \"wrong data\"\n",
    "\n",
    "filepath =r\"C:\\Users\\HP\\OneDrive\\Desktop\\text1.txt\"\n",
    "date = date_extract(filepath)\n",
    "print(date)"
   ]
  },
  {
   "cell_type": "markdown",
   "metadata": {},
   "source": [
    "# 15"
   ]
  },
  {
   "cell_type": "code",
   "execution_count": 17,
   "metadata": {},
   "outputs": [
    {
     "name": "stdout",
     "output_type": "stream",
     "text": [
      "['fox', 'dog']\n"
     ]
    }
   ],
   "source": [
    "def abc(txt, allword):\n",
    "    new_words = []\n",
    "    for word in allword:\n",
    "        if word in txt:\n",
    "            new_words.append(word)\n",
    "    return new_words\n",
    "sample_text = 'The quick brown fox jumps over the lazy dog.'\n",
    "Required_words = ['fox', 'dog', 'horse']\n",
    "new_literals = abc(sample_text, Required_words)\n",
    "print(new_literals)\n"
   ]
  },
  {
   "cell_type": "markdown",
   "metadata": {},
   "source": [
    "# 16"
   ]
  },
  {
   "cell_type": "code",
   "execution_count": 18,
   "metadata": {},
   "outputs": [
    {
     "name": "stdout",
     "output_type": "stream",
     "text": [
      "[(16, 'fox')]\n"
     ]
    }
   ],
   "source": [
    "sample_text = 'The quick brown fox jumps over the lazy dog.'\n",
    "New_word = 'fox'\n",
    "\n",
    "patrn = re.compile(New_word)\n",
    "find = patrn.finditer(sample_text)\n",
    "\n",
    "index = [(match.start(), match.group()) for match in find]\n",
    "\n",
    "print(index)\n"
   ]
  },
  {
   "cell_type": "markdown",
   "metadata": {},
   "source": [
    "# 17"
   ]
  },
  {
   "cell_type": "code",
   "execution_count": 19,
   "metadata": {},
   "outputs": [
    {
     "name": "stdout",
     "output_type": "stream",
     "text": [
      "[(7, 16), (22, 31), (36, 45)]\n"
     ]
    }
   ],
   "source": [
    "sample_text = 'Python exercises, PHP exercises, C# exercises'\n",
    "patrn = 'exercises'\n",
    "patrn1 = re.compile(patrn)\n",
    "same_match = patrn1.finditer(sample_text)\n",
    "index = [(match.start(), match.end()) for match in same_match]\n",
    "print(index)"
   ]
  },
  {
   "cell_type": "markdown",
   "metadata": {},
   "source": [
    "# 18"
   ]
  },
  {
   "cell_type": "code",
   "execution_count": 20,
   "metadata": {},
   "outputs": [
    {
     "name": "stdout",
     "output_type": "stream",
     "text": [
      "[{'start_index': 7, 'substring': 'exercises'}, {'start_index': 22, 'substring': 'exercises'}, {'start_index': 36, 'substring': 'exercises'}]\n"
     ]
    }
   ],
   "source": [
    "sample_text = 'Python exercises, PHP exercises, C# exercises'\n",
    "patrn = 'exercises'\n",
    "patrn1 = re.compile(patrn)\n",
    "same_match = patrn1.finditer(sample_text)\n",
    "occurr_string = [{'start_index': match.start(), 'substring': match.group()} for match in same_match]\n",
    "print(occurr_string)"
   ]
  },
  {
   "cell_type": "markdown",
   "metadata": {},
   "source": [
    "# 19"
   ]
  },
  {
   "cell_type": "code",
   "execution_count": 21,
   "metadata": {},
   "outputs": [
    {
     "name": "stdout",
     "output_type": "stream",
     "text": [
      "12-02-2024\n"
     ]
    }
   ],
   "source": [
    "date = \"2024-02-12\"\n",
    "patrn = re.compile(r'(\\d{4})-(\\d{2})-(\\d{2})')\n",
    "new_date = patrn.sub(r'\\3-\\2-\\1', date)\n",
    "print(new_date)"
   ]
  },
  {
   "cell_type": "markdown",
   "metadata": {},
   "source": [
    "# 20"
   ]
  },
  {
   "cell_type": "code",
   "execution_count": 22,
   "metadata": {},
   "outputs": [
    {
     "name": "stdout",
     "output_type": "stream",
     "text": [
      "['01.12', '0132.12', '2.31', '145.8', '3.01', '27.25', '0.25']\n"
     ]
    }
   ],
   "source": [
    "def find_numbers(text):\n",
    "    patrn = re.compile(r'\\d+\\.\\d{1,2}')\n",
    "    dec_numbers = patrn.findall(text)\n",
    "    return dec_numbers\n",
    "sample_text = \"01.12 0132.123 2.31875 145.8 3.01 27.25 0.25\"\n",
    "New_dec_numbers = find_numbers(sample_text)\n",
    "print(New_dec_numbers)"
   ]
  },
  {
   "cell_type": "markdown",
   "metadata": {},
   "source": [
    "# 21"
   ]
  },
  {
   "cell_type": "code",
   "execution_count": 23,
   "metadata": {},
   "outputs": [
    {
     "name": "stdout",
     "output_type": "stream",
     "text": [
      "Numb: 2, Pos: 0\n",
      "Numb: 3, Pos: 35\n",
      "Numb: 3, Pos: 51\n"
     ]
    }
   ],
   "source": [
    "sample_text = \"2 brothers are going for market at 3 pm with their 3 sisters.\"\n",
    "patrn = re.compile(r'\\d+')\n",
    "position_of_num = [{'numb': match.group(), 'pos': match.start()} for match in patrn.finditer(sample_text)]\n",
    "for item in position_of_num:\n",
    "    print(f\"Numb: {item['numb']}, Pos: {item['pos']}\")"
   ]
  },
  {
   "cell_type": "markdown",
   "metadata": {},
   "source": [
    "# 22"
   ]
  },
  {
   "cell_type": "code",
   "execution_count": 24,
   "metadata": {},
   "outputs": [
    {
     "name": "stdout",
     "output_type": "stream",
     "text": [
      "950\n"
     ]
    }
   ],
   "source": [
    "def extract_max_value(text):\n",
    "    patrn = re.compile(r'\\d+')\n",
    "    num_value = patrn.findall(text)\n",
    "    maximum_value = max(map(int, num_value))\n",
    "    return maximum_value\n",
    "\n",
    "sample_text = 'My marks in each semester are: 947, 896, 926, 524, 734, 950, 642'\n",
    "maximum_value = extract_max_value(sample_text)\n",
    "print(maximum_value)"
   ]
  },
  {
   "cell_type": "markdown",
   "metadata": {},
   "source": [
    "# 23"
   ]
  },
  {
   "cell_type": "code",
   "execution_count": 25,
   "metadata": {},
   "outputs": [
    {
     "name": "stdout",
     "output_type": "stream",
     "text": [
      "Regular Expression Is An Important Topic In Python\n"
     ]
    }
   ],
   "source": [
    "def space_capital(text):\n",
    "    new_text = re.sub(r'([A-Z])', r' \\1', text)\n",
    "    new_text = new_text.lstrip()\n",
    "    return new_text\n",
    "sample_text = \"RegularExpressionIsAnImportantTopicInPython\"\n",
    "output = space_capital(sample_text)\n",
    "print(output)"
   ]
  },
  {
   "cell_type": "markdown",
   "metadata": {},
   "source": [
    "# 24"
   ]
  },
  {
   "cell_type": "code",
   "execution_count": 26,
   "metadata": {},
   "outputs": [
    {
     "name": "stdout",
     "output_type": "stream",
     "text": [
      "['Living', 'In']\n"
     ]
    }
   ],
   "source": [
    "sample_text = \"I am Living In BANGALORE\"\n",
    "patrn = re.compile(r'[A-Z][a-z]+')\n",
    "series = patrn.findall(sample_text)\n",
    "print(series)"
   ]
  },
  {
   "cell_type": "markdown",
   "metadata": {},
   "source": [
    "# 25"
   ]
  },
  {
   "cell_type": "code",
   "execution_count": 27,
   "metadata": {},
   "outputs": [
    {
     "name": "stdout",
     "output_type": "stream",
     "text": [
      "Hello hello world\n"
     ]
    }
   ],
   "source": [
    "sample_text = \"Hello hello world world\"\n",
    "new_pattern = re.compile(r'\\b(\\w+)\\s+\\1\\b')\n",
    "new_text = new_pattern.sub(r'\\1', sample_text)\n",
    "print(new_text)"
   ]
  },
  {
   "cell_type": "markdown",
   "metadata": {},
   "source": [
    "# 26"
   ]
  },
  {
   "cell_type": "code",
   "execution_count": 28,
   "metadata": {},
   "outputs": [
    {
     "name": "stdout",
     "output_type": "stream",
     "text": [
      "alphanumeric character.\n",
      "Not an alphanumeric character.\n"
     ]
    }
   ],
   "source": [
    "text1 = \"Neha\"\n",
    "text2 = \"Neha#\"\n",
    "patrn = re.compile(r'.*[A-Za-z0-9]$')\n",
    "output1 = \"alphanumeric character.\" if patrn.match(text1) else \"Not an alphanumeric character.\"\n",
    "output2 = \"alphanumeric character.\" if patrn.match(text2) else \"Not an alphanumeric character.\"\n",
    "print(output1)\n",
    "print(output2)"
   ]
  },
  {
   "cell_type": "markdown",
   "metadata": {},
   "source": [
    "# 27"
   ]
  },
  {
   "cell_type": "code",
   "execution_count": 29,
   "metadata": {},
   "outputs": [
    {
     "name": "stdout",
     "output_type": "stream",
     "text": [
      "['#Doltiwal', '#xyzabc', '#Demonetization']\n"
     ]
    }
   ],
   "source": [
    "sample_text = \"\"\"RT @kapil_kausik: #Doltiwal I mean #xyzabc is \"hurt\" by #Demonetization as the same has rendered USELESS <ed><U+00A0><U+00BD><ed><U+00B1><U+0089> \"acquired funds\" No wo\"\"\"\n",
    "patrn = re.compile(r'#\\w+')\n",
    "hashtag = patrn.findall(sample_text)\n",
    "print(hashtag)"
   ]
  },
  {
   "cell_type": "markdown",
   "metadata": {},
   "source": [
    "# 28"
   ]
  },
  {
   "cell_type": "code",
   "execution_count": 30,
   "metadata": {},
   "outputs": [
    {
     "name": "stdout",
     "output_type": "stream",
     "text": [
      "@Jags123456 Bharat band on 28??<ed><ed>Those who  are protesting #demonetization  are all different party leaders\n"
     ]
    }
   ],
   "source": [
    "sample_text = \"@Jags123456 Bharat band on 28??<ed><U+00A0><U+00BD><ed><U+00B8><U+0082>Those who  are protesting #demonetization  are all different party leaders\"\n",
    "text1 = re.sub(r'<U\\+[0-9A-F]{4}>', '', sample_text)\n",
    "print(text1)"
   ]
  },
  {
   "cell_type": "markdown",
   "metadata": {},
   "source": [
    "# 29"
   ]
  },
  {
   "cell_type": "code",
   "execution_count": 31,
   "metadata": {},
   "outputs": [
    {
     "name": "stdout",
     "output_type": "stream",
     "text": [
      "['12-09-1992', '15-12-1999']\n"
     ]
    }
   ],
   "source": [
    "def date_file(file_path):\n",
    "    patrn = re.compile(r'\\b\\d{2}-\\d{2}-\\d{4}\\b')\n",
    "    with open(file_path, 'r') as file:\n",
    "        text = file.read()\n",
    "    dates = patrn.findall(text)\n",
    "    return dates\n",
    "file_path = r\"C:\\Users\\HP\\OneDrive\\Desktop\\Text 1.txt\"\n",
    "dates = date_file(file_path)\n",
    "print(dates)"
   ]
  },
  {
   "cell_type": "markdown",
   "metadata": {},
   "source": [
    "# 30"
   ]
  },
  {
   "cell_type": "code",
   "execution_count": 32,
   "metadata": {},
   "outputs": [
    {
     "name": "stdout",
     "output_type": "stream",
     "text": [
      "following example creates ArrayList a capacity elements. 4 elements added ArrayList ArrayList trimmed accordingly.\n"
     ]
    }
   ],
   "source": [
    "def remove_word(text):\n",
    "    pattern = re.compile(r'\\b\\w{2,4}\\b')\n",
    "    new_text = pattern.sub('', text)\n",
    "    new_text = re.sub(r'\\s+', ' ', new_text).strip()\n",
    "    return new_text\n",
    "sample_text = \"The following example creates an ArrayList with a capacity of 50 elements. 4 elements are then added to the ArrayList and the ArrayList is trimmed accordingly.\"\n",
    "new_text = remove_word(sample_text)\n",
    "print(new_text)"
   ]
  },
  {
   "cell_type": "code",
   "execution_count": null,
   "metadata": {},
   "outputs": [],
   "source": []
  }
 ],
 "metadata": {
  "kernelspec": {
   "display_name": "Python 3",
   "language": "python",
   "name": "python3"
  },
  "language_info": {
   "codemirror_mode": {
    "name": "ipython",
    "version": 3
   },
   "file_extension": ".py",
   "mimetype": "text/x-python",
   "name": "python",
   "nbconvert_exporter": "python",
   "pygments_lexer": "ipython3",
   "version": "3.8.5"
  }
 },
 "nbformat": 4,
 "nbformat_minor": 4
}
